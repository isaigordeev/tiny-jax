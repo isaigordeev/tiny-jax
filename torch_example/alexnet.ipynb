{
 "cells": [
  {
   "cell_type": "code",
   "execution_count": 1,
   "metadata": {
    "collapsed": true
   },
   "outputs": [
    {
     "name": "stderr",
     "output_type": "stream",
     "text": [
      "/Users/isaigordeev/Desktop/2023/SAXS/venv38/lib/python3.8/site-packages/urllib3/__init__.py:34: NotOpenSSLWarning: urllib3 v2.0 only supports OpenSSL 1.1.1+, currently the 'ssl' module is compiled with 'LibreSSL 2.8.3'. See: https://github.com/urllib3/urllib3/issues/3020\n",
      "  warnings.warn(\n",
      "/Users/isaigordeev/Desktop/2023/SAXS/venv38/lib/python3.8/site-packages/torchvision/models/_utils.py:135: UserWarning: Using 'weights' as positional parameter(s) is deprecated since 0.13 and may be removed in the future. Please use keyword parameter(s) instead.\n",
      "  warnings.warn(\n",
      "/Users/isaigordeev/Desktop/2023/SAXS/venv38/lib/python3.8/site-packages/torchvision/models/_utils.py:223: UserWarning: Arguments other than a weight enum or `None` for 'weights' are deprecated since 0.13 and may be removed in the future. The current behavior is equivalent to passing `weights=AlexNet_Weights.IMAGENET1K_V1`. You can also use `weights=AlexNet_Weights.DEFAULT` to get the most up-to-date weights.\n",
      "  warnings.warn(msg)\n",
      "Downloading: \"https://download.pytorch.org/models/alexnet-owt-7be5be79.pth\" to /Users/isaigordeev/.cache/torch/hub/checkpoints/alexnet-owt-7be5be79.pth\n",
      "100%|██████████| 233M/233M [00:40<00:00, 5.96MB/s] \n"
     ]
    }
   ],
   "source": [
    "import torchvision\n",
    "DEVICE = 'cpu'\n",
    "\n",
    "pretrained_weights = torchvision.models.AlexNet_Weights\n",
    "\n",
    "pretrained_alex_net = torchvision.models.alexnet(pretrained_weights).to(DEVICE)"
   ]
  },
  {
   "cell_type": "code",
   "execution_count": 3,
   "outputs": [
    {
     "data": {
      "text/plain": "========================================================================================================================\nLayer (type (var_name))                  Input Shape          Output Shape         Param #              Trainable\n========================================================================================================================\nAlexNet (AlexNet)                        [1, 3, 224, 224]     [1, 1000]            --                   True\n├─Sequential (features)                  [1, 3, 224, 224]     [1, 256, 6, 6]       --                   True\n│    └─Conv2d (0)                        [1, 3, 224, 224]     [1, 64, 55, 55]      23,296               True\n│    └─ReLU (1)                          [1, 64, 55, 55]      [1, 64, 55, 55]      --                   --\n│    └─MaxPool2d (2)                     [1, 64, 55, 55]      [1, 64, 27, 27]      --                   --\n│    └─Conv2d (3)                        [1, 64, 27, 27]      [1, 192, 27, 27]     307,392              True\n│    └─ReLU (4)                          [1, 192, 27, 27]     [1, 192, 27, 27]     --                   --\n│    └─MaxPool2d (5)                     [1, 192, 27, 27]     [1, 192, 13, 13]     --                   --\n│    └─Conv2d (6)                        [1, 192, 13, 13]     [1, 384, 13, 13]     663,936              True\n│    └─ReLU (7)                          [1, 384, 13, 13]     [1, 384, 13, 13]     --                   --\n│    └─Conv2d (8)                        [1, 384, 13, 13]     [1, 256, 13, 13]     884,992              True\n│    └─ReLU (9)                          [1, 256, 13, 13]     [1, 256, 13, 13]     --                   --\n│    └─Conv2d (10)                       [1, 256, 13, 13]     [1, 256, 13, 13]     590,080              True\n│    └─ReLU (11)                         [1, 256, 13, 13]     [1, 256, 13, 13]     --                   --\n│    └─MaxPool2d (12)                    [1, 256, 13, 13]     [1, 256, 6, 6]       --                   --\n├─AdaptiveAvgPool2d (avgpool)            [1, 256, 6, 6]       [1, 256, 6, 6]       --                   --\n├─Sequential (classifier)                [1, 9216]            [1, 1000]            --                   True\n│    └─Dropout (0)                       [1, 9216]            [1, 9216]            --                   --\n│    └─Linear (1)                        [1, 9216]            [1, 4096]            37,752,832           True\n│    └─ReLU (2)                          [1, 4096]            [1, 4096]            --                   --\n│    └─Dropout (3)                       [1, 4096]            [1, 4096]            --                   --\n│    └─Linear (4)                        [1, 4096]            [1, 4096]            16,781,312           True\n│    └─ReLU (5)                          [1, 4096]            [1, 4096]            --                   --\n│    └─Linear (6)                        [1, 4096]            [1, 1000]            4,097,000            True\n========================================================================================================================\nTotal params: 61,100,840\nTrainable params: 61,100,840\nNon-trainable params: 0\nTotal mult-adds (M): 714.68\n========================================================================================================================\nInput size (MB): 0.60\nForward/backward pass size (MB): 3.95\nParams size (MB): 244.40\nEstimated Total Size (MB): 248.96\n========================================================================================================================"
     },
     "execution_count": 3,
     "metadata": {},
     "output_type": "execute_result"
    }
   ],
   "source": [
    "from torchinfo import summary\n",
    "\n",
    "summary(pretrained_alex_net,\n",
    "        input_size=(1, 3, 224, 224),  # (batch_size, color_channels, height, width)\n",
    "        col_names=[\"input_size\", \"output_size\", \"num_params\", \"trainable\"],\n",
    "        col_width=20,\n",
    "        row_settings=[\"var_names\"]\n",
    "        )"
   ],
   "metadata": {
    "collapsed": false
   }
  },
  {
   "cell_type": "code",
   "execution_count": null,
   "outputs": [],
   "source": [
    "from PIL import Image\n",
    "\n",
    "transforms = pretrained_weights.transforms\n",
    "img = Image.open('')"
   ],
   "metadata": {
    "collapsed": false
   }
  }
 ],
 "metadata": {
  "kernelspec": {
   "display_name": "Python 3",
   "language": "python",
   "name": "python3"
  },
  "language_info": {
   "codemirror_mode": {
    "name": "ipython",
    "version": 2
   },
   "file_extension": ".py",
   "mimetype": "text/x-python",
   "name": "python",
   "nbconvert_exporter": "python",
   "pygments_lexer": "ipython2",
   "version": "2.7.6"
  }
 },
 "nbformat": 4,
 "nbformat_minor": 0
}
